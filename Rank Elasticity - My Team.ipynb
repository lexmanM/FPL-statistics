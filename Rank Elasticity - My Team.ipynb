{
 "cells": [
  {
   "cell_type": "code",
   "execution_count": 1,
   "metadata": {},
   "outputs": [],
   "source": [
    "import pandas as pd\n",
    "import numpy as np\n",
    "import os\n",
    "import requests\n",
    "import matplotlib.pyplot as plt\n",
    "from scipy import interpolate\n",
    "from sklearn.linear_model import LinearRegression\n",
    "import statsmodels.api as sm"
   ]
  },
  {
   "cell_type": "markdown",
   "metadata": {},
   "source": [
    "#### Dataset of gameweeks"
   ]
  },
  {
   "cell_type": "code",
   "execution_count": 2,
   "metadata": {},
   "outputs": [
    {
     "data": {
      "text/plain": [
       "dict_keys(['events', 'game_settings', 'phases', 'teams', 'total_players', 'elements', 'element_stats', 'element_types'])"
      ]
     },
     "execution_count": 2,
     "metadata": {},
     "output_type": "execute_result"
    }
   ],
   "source": [
    "url1 = 'https://fantasy.premierleague.com/api/bootstrap-static/'\n",
    "r1 = requests.get(url1)\n",
    "generalinfo = r1.json()\n",
    "generalinfo.keys()"
   ]
  },
  {
   "cell_type": "code",
   "execution_count": 3,
   "metadata": {
    "scrolled": true
   },
   "outputs": [],
   "source": [
    "# Gameweek population performance\n",
    "events_df = pd.DataFrame(generalinfo['events'])\n",
    "events_df_1 = events_df[['id','average_entry_score','most_selected','most_transferred_in',\n",
    "                         'top_element','top_element_info','most_captained','highest_score']]\n",
    "events_df_1.columns = ['gw','average_entry_score','most_selected','most_transferred_in',\n",
    "                       'top_element','top_element_info','most_captained','highest_score']\n",
    "events_df_2 = events_df_1[['gw','average_entry_score','highest_score']]\n",
    "\n",
    "\n",
    "# club information\n",
    "teams_df = pd.DataFrame(generalinfo['teams'])\n",
    "teams_df_1 = teams_df[['id','name']]\n",
    "teams_df_1.columns = ['team_id','team_name']\n",
    "\n",
    "# player information\n",
    "elements_df = pd.DataFrame(generalinfo['elements'])\n",
    "elements_types_df = pd.DataFrame(generalinfo['element_types'])\n",
    "\n",
    "elements_df['player_name'] = elements_df['first_name'] + \" \" + elements_df['second_name']\n",
    "elements_df = pd.merge(elements_df, teams_df_1, left_on=['team'],right_on=['team_id'],how='left')\n",
    "\n",
    "select_columns = ['id', 'player_name','element_type', 'now_cost', 'team_name',\n",
    "                  'team_code',  'ict_index']\n",
    "elements_df_1 = elements_df[select_columns]\n",
    "elements_df_1.columns = ['player_id', 'player_name','element_type', 'now_cost', 'team_name',\n",
    "                         'team_code',  'ict_index']"
   ]
  },
  {
   "cell_type": "markdown",
   "metadata": {},
   "source": [
    "#### Dataset of my gw performances"
   ]
  },
  {
   "cell_type": "code",
   "execution_count": 4,
   "metadata": {},
   "outputs": [
    {
     "data": {
      "text/plain": [
       "dict_keys(['current', 'past', 'chips'])"
      ]
     },
     "execution_count": 4,
     "metadata": {},
     "output_type": "execute_result"
    }
   ],
   "source": [
    "url2 = 'https://fantasy.premierleague.com/api/entry/4306792/history/'\n",
    "r2 = requests.get(url2)\n",
    "managerhistory = r2.json()\n",
    "managerhistory.keys()"
   ]
  },
  {
   "cell_type": "code",
   "execution_count": 5,
   "metadata": {},
   "outputs": [],
   "source": [
    "history_df = pd.DataFrame(managerhistory['current'])\n",
    "history_df.columns = ['gw','points', 'total_points', 'rank', 'rank_sort', 'overall_rank',\n",
    "                      'bank', 'value', 'event_transfers', 'event_transfers_cost',\n",
    "                      'points_on_bench']\n",
    "history_df_1 = history_df[['gw','points','total_points','rank','overall_rank','value']]"
   ]
  },
  {
   "cell_type": "code",
   "execution_count": 6,
   "metadata": {},
   "outputs": [],
   "source": [
    "history_df_2 = pd.merge(history_df_1, events_df_2, \n",
    "                        left_on=['gw'],right_on=['gw'],\n",
    "                        how='left')"
   ]
  },
  {
   "cell_type": "code",
   "execution_count": 7,
   "metadata": {},
   "outputs": [],
   "source": [
    "# calculate points above average \n",
    "history_df_2['points_above_avg']=history_df_2['points']-history_df_2['average_entry_score']\n",
    "\n",
    "history_df_2['points_above_avg_percent'] = history_df_2['points_above_avg']/history_df_2['average_entry_score']\n",
    "history_df_2['points_above_avg_percent'] = history_df_2['points_above_avg_percent'].round(2)\n",
    "\n",
    "# find the rank change\n",
    "history_df_2['rank_change'] = history_df_2['overall_rank'].diff()*(-1)\n",
    "\n",
    "history_df_2['rank_change'] = history_df_2['rank_change'].fillna(8000000-1676988)\n",
    "history_df_2['rank_change'] = history_df_2['rank_change'].astype(int)\n",
    "\n",
    "history_df_2['previous_rank'] = history_df_2['overall_rank'].shift(1)\n",
    "history_df_2['previous_rank'] = history_df_2['previous_rank'].fillna(8000000)\n",
    "\n",
    "history_df_2['rank_change_percent'] = history_df_2['rank_change']/history_df_2['previous_rank']\n",
    "history_df_2['rank_change_percent'] = history_df_2['rank_change_percent'].round(2)\n"
   ]
  },
  {
   "cell_type": "code",
   "execution_count": 8,
   "metadata": {
    "scrolled": true
   },
   "outputs": [
    {
     "data": {
      "text/html": [
       "<div>\n",
       "<style scoped>\n",
       "    .dataframe tbody tr th:only-of-type {\n",
       "        vertical-align: middle;\n",
       "    }\n",
       "\n",
       "    .dataframe tbody tr th {\n",
       "        vertical-align: top;\n",
       "    }\n",
       "\n",
       "    .dataframe thead th {\n",
       "        text-align: right;\n",
       "    }\n",
       "</style>\n",
       "<table border=\"1\" class=\"dataframe\">\n",
       "  <thead>\n",
       "    <tr style=\"text-align: right;\">\n",
       "      <th></th>\n",
       "      <th>gw</th>\n",
       "      <th>points</th>\n",
       "      <th>total_points</th>\n",
       "      <th>rank</th>\n",
       "      <th>overall_rank</th>\n",
       "      <th>value</th>\n",
       "      <th>average_entry_score</th>\n",
       "      <th>highest_score</th>\n",
       "      <th>points_above_avg</th>\n",
       "      <th>points_above_avg_percent</th>\n",
       "      <th>rank_change</th>\n",
       "      <th>previous_rank</th>\n",
       "      <th>rank_change_percent</th>\n",
       "    </tr>\n",
       "  </thead>\n",
       "  <tbody>\n",
       "    <tr>\n",
       "      <th>0</th>\n",
       "      <td>1</td>\n",
       "      <td>85</td>\n",
       "      <td>85</td>\n",
       "      <td>1676991</td>\n",
       "      <td>1676988</td>\n",
       "      <td>1000</td>\n",
       "      <td>69</td>\n",
       "      <td>150.0</td>\n",
       "      <td>16</td>\n",
       "      <td>0.23</td>\n",
       "      <td>6323012</td>\n",
       "      <td>8000000.0</td>\n",
       "      <td>0.79</td>\n",
       "    </tr>\n",
       "    <tr>\n",
       "      <th>1</th>\n",
       "      <td>2</td>\n",
       "      <td>73</td>\n",
       "      <td>158</td>\n",
       "      <td>989758</td>\n",
       "      <td>905892</td>\n",
       "      <td>1003</td>\n",
       "      <td>56</td>\n",
       "      <td>146.0</td>\n",
       "      <td>17</td>\n",
       "      <td>0.30</td>\n",
       "      <td>771096</td>\n",
       "      <td>1676988.0</td>\n",
       "      <td>0.46</td>\n",
       "    </tr>\n",
       "    <tr>\n",
       "      <th>2</th>\n",
       "      <td>3</td>\n",
       "      <td>54</td>\n",
       "      <td>212</td>\n",
       "      <td>4064343</td>\n",
       "      <td>1187442</td>\n",
       "      <td>1004</td>\n",
       "      <td>54</td>\n",
       "      <td>119.0</td>\n",
       "      <td>0</td>\n",
       "      <td>0.00</td>\n",
       "      <td>-281550</td>\n",
       "      <td>905892.0</td>\n",
       "      <td>-0.31</td>\n",
       "    </tr>\n",
       "    <tr>\n",
       "      <th>3</th>\n",
       "      <td>4</td>\n",
       "      <td>58</td>\n",
       "      <td>266</td>\n",
       "      <td>3916082</td>\n",
       "      <td>1423476</td>\n",
       "      <td>1001</td>\n",
       "      <td>57</td>\n",
       "      <td>120.0</td>\n",
       "      <td>1</td>\n",
       "      <td>0.02</td>\n",
       "      <td>-236034</td>\n",
       "      <td>1187442.0</td>\n",
       "      <td>-0.20</td>\n",
       "    </tr>\n",
       "    <tr>\n",
       "      <th>4</th>\n",
       "      <td>5</td>\n",
       "      <td>61</td>\n",
       "      <td>327</td>\n",
       "      <td>2562959</td>\n",
       "      <td>1345547</td>\n",
       "      <td>999</td>\n",
       "      <td>55</td>\n",
       "      <td>144.0</td>\n",
       "      <td>6</td>\n",
       "      <td>0.11</td>\n",
       "      <td>77929</td>\n",
       "      <td>1423476.0</td>\n",
       "      <td>0.05</td>\n",
       "    </tr>\n",
       "    <tr>\n",
       "      <th>5</th>\n",
       "      <td>6</td>\n",
       "      <td>42</td>\n",
       "      <td>369</td>\n",
       "      <td>4398230</td>\n",
       "      <td>1500657</td>\n",
       "      <td>1006</td>\n",
       "      <td>43</td>\n",
       "      <td>117.0</td>\n",
       "      <td>-1</td>\n",
       "      <td>-0.02</td>\n",
       "      <td>-155110</td>\n",
       "      <td>1345547.0</td>\n",
       "      <td>-0.12</td>\n",
       "    </tr>\n",
       "    <tr>\n",
       "      <th>6</th>\n",
       "      <td>7</td>\n",
       "      <td>49</td>\n",
       "      <td>414</td>\n",
       "      <td>1367965</td>\n",
       "      <td>1398032</td>\n",
       "      <td>1005</td>\n",
       "      <td>38</td>\n",
       "      <td>102.0</td>\n",
       "      <td>11</td>\n",
       "      <td>0.29</td>\n",
       "      <td>102625</td>\n",
       "      <td>1500657.0</td>\n",
       "      <td>0.07</td>\n",
       "    </tr>\n",
       "    <tr>\n",
       "      <th>7</th>\n",
       "      <td>8</td>\n",
       "      <td>55</td>\n",
       "      <td>469</td>\n",
       "      <td>2685794</td>\n",
       "      <td>1366087</td>\n",
       "      <td>1004</td>\n",
       "      <td>49</td>\n",
       "      <td>122.0</td>\n",
       "      <td>6</td>\n",
       "      <td>0.12</td>\n",
       "      <td>31945</td>\n",
       "      <td>1398032.0</td>\n",
       "      <td>0.02</td>\n",
       "    </tr>\n",
       "    <tr>\n",
       "      <th>8</th>\n",
       "      <td>9</td>\n",
       "      <td>100</td>\n",
       "      <td>569</td>\n",
       "      <td>415381</td>\n",
       "      <td>812575</td>\n",
       "      <td>1002</td>\n",
       "      <td>64</td>\n",
       "      <td>165.0</td>\n",
       "      <td>36</td>\n",
       "      <td>0.56</td>\n",
       "      <td>553512</td>\n",
       "      <td>1366087.0</td>\n",
       "      <td>0.41</td>\n",
       "    </tr>\n",
       "    <tr>\n",
       "      <th>9</th>\n",
       "      <td>10</td>\n",
       "      <td>47</td>\n",
       "      <td>616</td>\n",
       "      <td>3028576</td>\n",
       "      <td>763664</td>\n",
       "      <td>1000</td>\n",
       "      <td>42</td>\n",
       "      <td>116.0</td>\n",
       "      <td>5</td>\n",
       "      <td>0.12</td>\n",
       "      <td>48911</td>\n",
       "      <td>812575.0</td>\n",
       "      <td>0.06</td>\n",
       "    </tr>\n",
       "    <tr>\n",
       "      <th>10</th>\n",
       "      <td>11</td>\n",
       "      <td>56</td>\n",
       "      <td>672</td>\n",
       "      <td>1221759</td>\n",
       "      <td>654078</td>\n",
       "      <td>1000</td>\n",
       "      <td>42</td>\n",
       "      <td>116.0</td>\n",
       "      <td>14</td>\n",
       "      <td>0.33</td>\n",
       "      <td>109586</td>\n",
       "      <td>763664.0</td>\n",
       "      <td>0.14</td>\n",
       "    </tr>\n",
       "    <tr>\n",
       "      <th>11</th>\n",
       "      <td>12</td>\n",
       "      <td>88</td>\n",
       "      <td>756</td>\n",
       "      <td>133526</td>\n",
       "      <td>420522</td>\n",
       "      <td>1003</td>\n",
       "      <td>57</td>\n",
       "      <td>135.0</td>\n",
       "      <td>31</td>\n",
       "      <td>0.54</td>\n",
       "      <td>233556</td>\n",
       "      <td>654078.0</td>\n",
       "      <td>0.36</td>\n",
       "    </tr>\n",
       "    <tr>\n",
       "      <th>12</th>\n",
       "      <td>13</td>\n",
       "      <td>36</td>\n",
       "      <td>792</td>\n",
       "      <td>6367645</td>\n",
       "      <td>597038</td>\n",
       "      <td>1010</td>\n",
       "      <td>44</td>\n",
       "      <td>132.0</td>\n",
       "      <td>-8</td>\n",
       "      <td>-0.18</td>\n",
       "      <td>-176516</td>\n",
       "      <td>420522.0</td>\n",
       "      <td>-0.42</td>\n",
       "    </tr>\n",
       "    <tr>\n",
       "      <th>13</th>\n",
       "      <td>14</td>\n",
       "      <td>76</td>\n",
       "      <td>860</td>\n",
       "      <td>952651</td>\n",
       "      <td>576768</td>\n",
       "      <td>1012</td>\n",
       "      <td>58</td>\n",
       "      <td>126.0</td>\n",
       "      <td>18</td>\n",
       "      <td>0.31</td>\n",
       "      <td>20270</td>\n",
       "      <td>597038.0</td>\n",
       "      <td>0.03</td>\n",
       "    </tr>\n",
       "    <tr>\n",
       "      <th>14</th>\n",
       "      <td>15</td>\n",
       "      <td>52</td>\n",
       "      <td>908</td>\n",
       "      <td>1922202</td>\n",
       "      <td>576423</td>\n",
       "      <td>1015</td>\n",
       "      <td>43</td>\n",
       "      <td>114.0</td>\n",
       "      <td>9</td>\n",
       "      <td>0.21</td>\n",
       "      <td>345</td>\n",
       "      <td>576768.0</td>\n",
       "      <td>0.00</td>\n",
       "    </tr>\n",
       "    <tr>\n",
       "      <th>15</th>\n",
       "      <td>16</td>\n",
       "      <td>51</td>\n",
       "      <td>959</td>\n",
       "      <td>5438718</td>\n",
       "      <td>748838</td>\n",
       "      <td>1015</td>\n",
       "      <td>55</td>\n",
       "      <td>128.0</td>\n",
       "      <td>-4</td>\n",
       "      <td>-0.07</td>\n",
       "      <td>-172415</td>\n",
       "      <td>576423.0</td>\n",
       "      <td>-0.30</td>\n",
       "    </tr>\n",
       "    <tr>\n",
       "      <th>16</th>\n",
       "      <td>17</td>\n",
       "      <td>61</td>\n",
       "      <td>1016</td>\n",
       "      <td>1298935</td>\n",
       "      <td>717807</td>\n",
       "      <td>1017</td>\n",
       "      <td>45</td>\n",
       "      <td>127.0</td>\n",
       "      <td>16</td>\n",
       "      <td>0.36</td>\n",
       "      <td>31031</td>\n",
       "      <td>748838.0</td>\n",
       "      <td>0.04</td>\n",
       "    </tr>\n",
       "    <tr>\n",
       "      <th>17</th>\n",
       "      <td>18</td>\n",
       "      <td>66</td>\n",
       "      <td>1078</td>\n",
       "      <td>451726</td>\n",
       "      <td>582314</td>\n",
       "      <td>1014</td>\n",
       "      <td>39</td>\n",
       "      <td>121.0</td>\n",
       "      <td>27</td>\n",
       "      <td>0.69</td>\n",
       "      <td>135493</td>\n",
       "      <td>717807.0</td>\n",
       "      <td>0.19</td>\n",
       "    </tr>\n",
       "    <tr>\n",
       "      <th>18</th>\n",
       "      <td>19</td>\n",
       "      <td>67</td>\n",
       "      <td>1145</td>\n",
       "      <td>243698</td>\n",
       "      <td>386686</td>\n",
       "      <td>1017</td>\n",
       "      <td>36</td>\n",
       "      <td>119.0</td>\n",
       "      <td>31</td>\n",
       "      <td>0.86</td>\n",
       "      <td>195628</td>\n",
       "      <td>582314.0</td>\n",
       "      <td>0.34</td>\n",
       "    </tr>\n",
       "    <tr>\n",
       "      <th>19</th>\n",
       "      <td>20</td>\n",
       "      <td>31</td>\n",
       "      <td>1172</td>\n",
       "      <td>6072357</td>\n",
       "      <td>478036</td>\n",
       "      <td>1019</td>\n",
       "      <td>37</td>\n",
       "      <td>105.0</td>\n",
       "      <td>-6</td>\n",
       "      <td>-0.16</td>\n",
       "      <td>-91350</td>\n",
       "      <td>386686.0</td>\n",
       "      <td>-0.24</td>\n",
       "    </tr>\n",
       "    <tr>\n",
       "      <th>20</th>\n",
       "      <td>21</td>\n",
       "      <td>74</td>\n",
       "      <td>1242</td>\n",
       "      <td>828534</td>\n",
       "      <td>428418</td>\n",
       "      <td>1015</td>\n",
       "      <td>46</td>\n",
       "      <td>129.0</td>\n",
       "      <td>28</td>\n",
       "      <td>0.61</td>\n",
       "      <td>49618</td>\n",
       "      <td>478036.0</td>\n",
       "      <td>0.10</td>\n",
       "    </tr>\n",
       "    <tr>\n",
       "      <th>21</th>\n",
       "      <td>22</td>\n",
       "      <td>49</td>\n",
       "      <td>1291</td>\n",
       "      <td>4868413</td>\n",
       "      <td>490886</td>\n",
       "      <td>1019</td>\n",
       "      <td>51</td>\n",
       "      <td>145.0</td>\n",
       "      <td>-2</td>\n",
       "      <td>-0.04</td>\n",
       "      <td>-62468</td>\n",
       "      <td>428418.0</td>\n",
       "      <td>-0.15</td>\n",
       "    </tr>\n",
       "  </tbody>\n",
       "</table>\n",
       "</div>"
      ],
      "text/plain": [
       "    gw  points  total_points     rank  overall_rank  value  \\\n",
       "0    1      85            85  1676991       1676988   1000   \n",
       "1    2      73           158   989758        905892   1003   \n",
       "2    3      54           212  4064343       1187442   1004   \n",
       "3    4      58           266  3916082       1423476   1001   \n",
       "4    5      61           327  2562959       1345547    999   \n",
       "5    6      42           369  4398230       1500657   1006   \n",
       "6    7      49           414  1367965       1398032   1005   \n",
       "7    8      55           469  2685794       1366087   1004   \n",
       "8    9     100           569   415381        812575   1002   \n",
       "9   10      47           616  3028576        763664   1000   \n",
       "10  11      56           672  1221759        654078   1000   \n",
       "11  12      88           756   133526        420522   1003   \n",
       "12  13      36           792  6367645        597038   1010   \n",
       "13  14      76           860   952651        576768   1012   \n",
       "14  15      52           908  1922202        576423   1015   \n",
       "15  16      51           959  5438718        748838   1015   \n",
       "16  17      61          1016  1298935        717807   1017   \n",
       "17  18      66          1078   451726        582314   1014   \n",
       "18  19      67          1145   243698        386686   1017   \n",
       "19  20      31          1172  6072357        478036   1019   \n",
       "20  21      74          1242   828534        428418   1015   \n",
       "21  22      49          1291  4868413        490886   1019   \n",
       "\n",
       "    average_entry_score  highest_score  points_above_avg  \\\n",
       "0                    69          150.0                16   \n",
       "1                    56          146.0                17   \n",
       "2                    54          119.0                 0   \n",
       "3                    57          120.0                 1   \n",
       "4                    55          144.0                 6   \n",
       "5                    43          117.0                -1   \n",
       "6                    38          102.0                11   \n",
       "7                    49          122.0                 6   \n",
       "8                    64          165.0                36   \n",
       "9                    42          116.0                 5   \n",
       "10                   42          116.0                14   \n",
       "11                   57          135.0                31   \n",
       "12                   44          132.0                -8   \n",
       "13                   58          126.0                18   \n",
       "14                   43          114.0                 9   \n",
       "15                   55          128.0                -4   \n",
       "16                   45          127.0                16   \n",
       "17                   39          121.0                27   \n",
       "18                   36          119.0                31   \n",
       "19                   37          105.0                -6   \n",
       "20                   46          129.0                28   \n",
       "21                   51          145.0                -2   \n",
       "\n",
       "    points_above_avg_percent  rank_change  previous_rank  rank_change_percent  \n",
       "0                       0.23      6323012      8000000.0                 0.79  \n",
       "1                       0.30       771096      1676988.0                 0.46  \n",
       "2                       0.00      -281550       905892.0                -0.31  \n",
       "3                       0.02      -236034      1187442.0                -0.20  \n",
       "4                       0.11        77929      1423476.0                 0.05  \n",
       "5                      -0.02      -155110      1345547.0                -0.12  \n",
       "6                       0.29       102625      1500657.0                 0.07  \n",
       "7                       0.12        31945      1398032.0                 0.02  \n",
       "8                       0.56       553512      1366087.0                 0.41  \n",
       "9                       0.12        48911       812575.0                 0.06  \n",
       "10                      0.33       109586       763664.0                 0.14  \n",
       "11                      0.54       233556       654078.0                 0.36  \n",
       "12                     -0.18      -176516       420522.0                -0.42  \n",
       "13                      0.31        20270       597038.0                 0.03  \n",
       "14                      0.21          345       576768.0                 0.00  \n",
       "15                     -0.07      -172415       576423.0                -0.30  \n",
       "16                      0.36        31031       748838.0                 0.04  \n",
       "17                      0.69       135493       717807.0                 0.19  \n",
       "18                      0.86       195628       582314.0                 0.34  \n",
       "19                     -0.16       -91350       386686.0                -0.24  \n",
       "20                      0.61        49618       478036.0                 0.10  \n",
       "21                     -0.04       -62468       428418.0                -0.15  "
      ]
     },
     "execution_count": 8,
     "metadata": {},
     "output_type": "execute_result"
    }
   ],
   "source": [
    "history_df_2.head(22)"
   ]
  },
  {
   "cell_type": "code",
   "execution_count": 9,
   "metadata": {},
   "outputs": [
    {
     "data": {
      "image/png": "[encoded data removed]",
      "text/plain": [
       "<Figure size 432x288 with 1 Axes>"
      ]
     },
     "metadata": {
      "needs_background": "light"
     },
     "output_type": "display_data"
    }
   ],
   "source": [
    "# GW points vs GW rank\n",
    "plt.scatter(history_df_2['points'], history_df_2['rank'], color= \"green\", s=30)\n",
    "plt.xlabel('GW points')\n",
    "plt.ylabel('GW rank')\n",
    "plt.title('Rank vs Points') \n",
    "plt.show()"
   ]
  },
  {
   "cell_type": "code",
   "execution_count": 10,
   "metadata": {
    "scrolled": true
   },
   "outputs": [
    {
     "data": {
      "image/png": "[encoded data removed]",
      "text/plain": [
       "<Figure size 432x288 with 1 Axes>"
      ]
     },
     "metadata": {
      "needs_background": "light"
     },
     "output_type": "display_data"
    }
   ],
   "source": [
    "# GW points above average vs GW rank\n",
    "plt.scatter(history_df_2['points_above_avg'], history_df_2['rank'], color= \"green\", s=30)\n",
    "plt.xlabel('GW points above average')\n",
    "plt.ylabel('GW rank')\n",
    "plt.title('Rank vs Points above average') \n",
    "plt.show()"
   ]
  },
  {
   "cell_type": "code",
   "execution_count": 11,
   "metadata": {
    "scrolled": true
   },
   "outputs": [
    {
     "data": {
      "image/png": "[encoded data removed]",
      "text/plain": [
       "<Figure size 432x288 with 1 Axes>"
      ]
     },
     "metadata": {
      "needs_background": "light"
     },
     "output_type": "display_data"
    }
   ],
   "source": [
    "# Overall rank vs gameweek\n",
    "plt.plot(history_df_2['gw'], history_df_2['overall_rank'])\n",
    "plt.xlabel('GW')\n",
    "plt.ylabel('Overall rank')\n",
    "plt.title('Rank') \n",
    "plt.show()"
   ]
  },
  {
   "cell_type": "code",
   "execution_count": 12,
   "metadata": {
    "scrolled": false
   },
   "outputs": [
    {
     "data": {
      "text/plain": [
       "Text(0.5, 1.0, 'Points Above Average')"
      ]
     },
     "execution_count": 12,
     "metadata": {},
     "output_type": "execute_result"
    },
    {
     "data": {
      "image/png": "[encoded data removed]",
      "text/plain": [
       "<Figure size 720x360 with 2 Axes>"
      ]
     },
     "metadata": {
      "needs_background": "light"
     },
     "output_type": "display_data"
    }
   ],
   "source": [
    "fig, axs = plt.subplots(1, 2, figsize=(10,5))\n",
    "\n",
    "axs[0].plot(history_df_2['gw'], history_df_2['overall_rank'])\n",
    "axs[0].set_title('Overall Rank')\n",
    "\n",
    "axs[1].bar(history_df_2['gw'], history_df_2['points_above_avg'])\n",
    "axs[1].set_title('Points Above Average')"
   ]
  },
  {
   "cell_type": "code",
   "execution_count": 13,
   "metadata": {},
   "outputs": [
    {
     "data": {
      "text/plain": [
       "Text(0.5, 1.0, 'Points Above Average')"
      ]
     },
     "execution_count": 13,
     "metadata": {},
     "output_type": "execute_result"
    },
    {
     "data": {
      "image/png": "[encoded data removed]",
      "text/plain": [
       "<Figure size 720x360 with 2 Axes>"
      ]
     },
     "metadata": {
      "needs_background": "light"
     },
     "output_type": "display_data"
    }
   ],
   "source": [
    "fig, axs = plt.subplots(1, 2, figsize=(10,5))\n",
    "\n",
    "axs[0].plot(history_df_2['gw'], history_df_2['rank_change'])\n",
    "axs[0].set_title('Rank Change')\n",
    "\n",
    "axs[1].bar(history_df_2['gw'], history_df_2['points_above_avg'])\n",
    "axs[1].set_title('Points Above Average')"
   ]
  },
  {
   "cell_type": "code",
   "execution_count": 14,
   "metadata": {},
   "outputs": [
    {
     "data": {
      "text/plain": [
       "Text(0.5, 1.0, 'Points Above Average %')"
      ]
     },
     "execution_count": 14,
     "metadata": {},
     "output_type": "execute_result"
    },
    {
     "data": {
      "image/png": "[encoded data removed]",
      "text/plain": [
       "<Figure size 720x720 with 2 Axes>"
      ]
     },
     "metadata": {
      "needs_background": "light"
     },
     "output_type": "display_data"
    }
   ],
   "source": [
    "fig, axs = plt.subplots(2, 1, figsize=(10,10))\n",
    "\n",
    "axs[0].plot(history_df_2['gw'], history_df_2['rank_change_percent'])\n",
    "axs[0].set_title('Rank Change %')\n",
    "\n",
    "axs[1].bar(history_df_2['gw'], history_df_2['points_above_avg_percent'])\n",
    "axs[1].set_title('Points Above Average %')"
   ]
  },
  {
   "cell_type": "markdown",
   "metadata": {},
   "source": [
    "#### Modeling for rank percent change"
   ]
  },
  {
   "cell_type": "code",
   "execution_count": 15,
   "metadata": {},
   "outputs": [],
   "source": [
    "Y = history_df_2['rank_change_percent'].head(22)\n",
    "X = history_df_2[['gw','points_above_avg_percent','average_entry_score','previous_rank']].head(22)"
   ]
  },
  {
   "cell_type": "code",
   "execution_count": 16,
   "metadata": {
    "scrolled": false
   },
   "outputs": [
    {
     "data": {
      "text/html": [
       "<table class=\"simpletable\">\n",
       "<caption>OLS Regression Results</caption>\n",
       "<tr>\n",
       "  <th>Dep. Variable:</th>    <td>rank_change_percent</td> <th>  R-squared:         </th> <td>   0.859</td>\n",
       "</tr>\n",
       "<tr>\n",
       "  <th>Model:</th>                    <td>OLS</td>         <th>  Adj. R-squared:    </th> <td>   0.826</td>\n",
       "</tr>\n",
       "<tr>\n",
       "  <th>Method:</th>              <td>Least Squares</td>    <th>  F-statistic:       </th> <td>   25.90</td>\n",
       "</tr>\n",
       "<tr>\n",
       "  <th>Date:</th>              <td>Mon, 24 Jan 2022</td>   <th>  Prob (F-statistic):</th> <td>4.86e-07</td>\n",
       "</tr>\n",
       "<tr>\n",
       "  <th>Time:</th>                  <td>16:25:08</td>       <th>  Log-Likelihood:    </th> <td>  18.202</td>\n",
       "</tr>\n",
       "<tr>\n",
       "  <th>No. Observations:</th>       <td>    22</td>        <th>  AIC:               </th> <td>  -26.40</td>\n",
       "</tr>\n",
       "<tr>\n",
       "  <th>Df Residuals:</th>           <td>    17</td>        <th>  BIC:               </th> <td>  -20.95</td>\n",
       "</tr>\n",
       "<tr>\n",
       "  <th>Df Model:</th>               <td>     4</td>        <th>                     </th>     <td> </td>   \n",
       "</tr>\n",
       "<tr>\n",
       "  <th>Covariance Type:</th>       <td>nonrobust</td>      <th>                     </th>     <td> </td>   \n",
       "</tr>\n",
       "</table>\n",
       "<table class=\"simpletable\">\n",
       "<tr>\n",
       "              <td></td>                <th>coef</th>     <th>std err</th>      <th>t</th>      <th>P>|t|</th>  <th>[0.025</th>    <th>0.975]</th>  \n",
       "</tr>\n",
       "<tr>\n",
       "  <th>const</th>                    <td>   -0.3194</td> <td>    0.200</td> <td>   -1.600</td> <td> 0.128</td> <td>   -0.741</td> <td>    0.102</td>\n",
       "</tr>\n",
       "<tr>\n",
       "  <th>gw</th>                       <td>   -0.0036</td> <td>    0.005</td> <td>   -0.687</td> <td> 0.501</td> <td>   -0.015</td> <td>    0.007</td>\n",
       "</tr>\n",
       "<tr>\n",
       "  <th>points_above_avg_percent</th> <td>    0.7176</td> <td>    0.096</td> <td>    7.452</td> <td> 0.000</td> <td>    0.514</td> <td>    0.921</td>\n",
       "</tr>\n",
       "<tr>\n",
       "  <th>average_entry_score</th>      <td>    0.0027</td> <td>    0.004</td> <td>    0.757</td> <td> 0.459</td> <td>   -0.005</td> <td>    0.010</td>\n",
       "</tr>\n",
       "<tr>\n",
       "  <th>previous_rank</th>            <td> 9.762e-08</td> <td> 2.17e-08</td> <td>    4.500</td> <td> 0.000</td> <td> 5.18e-08</td> <td> 1.43e-07</td>\n",
       "</tr>\n",
       "</table>\n",
       "<table class=\"simpletable\">\n",
       "<tr>\n",
       "  <th>Omnibus:</th>       <td> 0.689</td> <th>  Durbin-Watson:     </th> <td>   2.271</td>\n",
       "</tr>\n",
       "<tr>\n",
       "  <th>Prob(Omnibus):</th> <td> 0.709</td> <th>  Jarque-Bera (JB):  </th> <td>   0.266</td>\n",
       "</tr>\n",
       "<tr>\n",
       "  <th>Skew:</th>          <td> 0.269</td> <th>  Prob(JB):          </th> <td>   0.875</td>\n",
       "</tr>\n",
       "<tr>\n",
       "  <th>Kurtosis:</th>      <td> 2.974</td> <th>  Cond. No.          </th> <td>1.52e+07</td>\n",
       "</tr>\n",
       "</table><br/><br/>Notes:<br/>[1] Standard Errors assume that the covariance matrix of the errors is correctly specified.<br/>[2] The condition number is large, 1.52e+07. This might indicate that there are<br/>strong multicollinearity or other numerical problems."
      ],
      "text/plain": [
       "<class 'statsmodels.iolib.summary.Summary'>\n",
       "\"\"\"\n",
       "                             OLS Regression Results                            \n",
       "===============================================================================\n",
       "Dep. Variable:     rank_change_percent   R-squared:                       0.859\n",
       "Model:                             OLS   Adj. R-squared:                  0.826\n",
       "Method:                  Least Squares   F-statistic:                     25.90\n",
       "Date:                 Mon, 24 Jan 2022   Prob (F-statistic):           4.86e-07\n",
       "Time:                         16:25:08   Log-Likelihood:                 18.202\n",
       "No. Observations:                   22   AIC:                            -26.40\n",
       "Df Residuals:                       17   BIC:                            -20.95\n",
       "Df Model:                            4                                         \n",
       "Covariance Type:             nonrobust                                         \n",
       "============================================================================================\n",
       "                               coef    std err          t      P>|t|      [0.025      0.975]\n",
       "--------------------------------------------------------------------------------------------\n",
       "const                       -0.3194      0.200     -1.600      0.128      -0.741       0.102\n",
       "gw                          -0.0036      0.005     -0.687      0.501      -0.015       0.007\n",
       "points_above_avg_percent     0.7176      0.096      7.452      0.000       0.514       0.921\n",
       "average_entry_score          0.0027      0.004      0.757      0.459      -0.005       0.010\n",
       "previous_rank             9.762e-08   2.17e-08      4.500      0.000    5.18e-08    1.43e-07\n",
       "==============================================================================\n",
       "Omnibus:                        0.689   Durbin-Watson:                   2.271\n",
       "Prob(Omnibus):                  0.709   Jarque-Bera (JB):                0.266\n",
       "Skew:                           0.269   Prob(JB):                        0.875\n",
       "Kurtosis:                       2.974   Cond. No.                     1.52e+07\n",
       "==============================================================================\n",
       "\n",
       "Notes:\n",
       "[1] Standard Errors assume that the covariance matrix of the errors is correctly specified.\n",
       "[2] The condition number is large, 1.52e+07. This might indicate that there are\n",
       "strong multicollinearity or other numerical problems.\n",
       "\"\"\""
      ]
     },
     "execution_count": 16,
     "metadata": {},
     "output_type": "execute_result"
    }
   ],
   "source": [
    "X_const = sm.add_constant(X)\n",
    "m1 = sm.OLS(Y, X_const).fit()\n",
    "m1.summary()"
   ]
  },
  {
   "cell_type": "markdown",
   "metadata": {},
   "source": [
    "The overall model is valid with a significant F-statistic. Only the 'points above avg percent' and 'previous rank' has significant beta coefficient. We can interpret the other two variables to have a zero beta with the observed p-value. \n",
    "\n",
    "We can remove these variables for the sake of parsimony."
   ]
  },
  {
   "cell_type": "code",
   "execution_count": 17,
   "metadata": {
    "scrolled": true
   },
   "outputs": [],
   "source": [
    "#X_const"
   ]
  },
  {
   "cell_type": "code",
   "execution_count": 18,
   "metadata": {},
   "outputs": [],
   "source": [
    "Y1 = history_df_2['rank_change_percent'].head(22)\n",
    "X1 = history_df_2[['points_above_avg_percent','previous_rank']].head(22)"
   ]
  },
  {
   "cell_type": "code",
   "execution_count": 19,
   "metadata": {},
   "outputs": [
    {
     "data": {
      "text/html": [
       "<table class=\"simpletable\">\n",
       "<caption>OLS Regression Results</caption>\n",
       "<tr>\n",
       "  <th>Dep. Variable:</th>    <td>rank_change_percent</td> <th>  R-squared:         </th> <td>   0.847</td>\n",
       "</tr>\n",
       "<tr>\n",
       "  <th>Model:</th>                    <td>OLS</td>         <th>  Adj. R-squared:    </th> <td>   0.831</td>\n",
       "</tr>\n",
       "<tr>\n",
       "  <th>Method:</th>              <td>Least Squares</td>    <th>  F-statistic:       </th> <td>   52.54</td>\n",
       "</tr>\n",
       "<tr>\n",
       "  <th>Date:</th>              <td>Mon, 24 Jan 2022</td>   <th>  Prob (F-statistic):</th> <td>1.81e-08</td>\n",
       "</tr>\n",
       "<tr>\n",
       "  <th>Time:</th>                  <td>16:25:12</td>       <th>  Log-Likelihood:    </th> <td>  17.294</td>\n",
       "</tr>\n",
       "<tr>\n",
       "  <th>No. Observations:</th>       <td>    22</td>        <th>  AIC:               </th> <td>  -28.59</td>\n",
       "</tr>\n",
       "<tr>\n",
       "  <th>Df Residuals:</th>           <td>    19</td>        <th>  BIC:               </th> <td>  -25.31</td>\n",
       "</tr>\n",
       "<tr>\n",
       "  <th>Df Model:</th>               <td>     2</td>        <th>                     </th>     <td> </td>   \n",
       "</tr>\n",
       "<tr>\n",
       "  <th>Covariance Type:</th>       <td>nonrobust</td>      <th>                     </th>     <td> </td>   \n",
       "</tr>\n",
       "</table>\n",
       "<table class=\"simpletable\">\n",
       "<tr>\n",
       "              <td></td>                <th>coef</th>     <th>std err</th>      <th>t</th>      <th>P>|t|</th>  <th>[0.025</th>    <th>0.975]</th>  \n",
       "</tr>\n",
       "<tr>\n",
       "  <th>const</th>                    <td>   -0.2414</td> <td>    0.039</td> <td>   -6.224</td> <td> 0.000</td> <td>   -0.323</td> <td>   -0.160</td>\n",
       "</tr>\n",
       "<tr>\n",
       "  <th>points_above_avg_percent</th> <td>    0.6930</td> <td>    0.092</td> <td>    7.573</td> <td> 0.000</td> <td>    0.501</td> <td>    0.885</td>\n",
       "</tr>\n",
       "<tr>\n",
       "  <th>previous_rank</th>            <td> 1.143e-07</td> <td> 1.65e-08</td> <td>    6.932</td> <td> 0.000</td> <td> 7.98e-08</td> <td> 1.49e-07</td>\n",
       "</tr>\n",
       "</table>\n",
       "<table class=\"simpletable\">\n",
       "<tr>\n",
       "  <th>Omnibus:</th>       <td> 3.777</td> <th>  Durbin-Watson:     </th> <td>   2.267</td>\n",
       "</tr>\n",
       "<tr>\n",
       "  <th>Prob(Omnibus):</th> <td> 0.151</td> <th>  Jarque-Bera (JB):  </th> <td>   2.179</td>\n",
       "</tr>\n",
       "<tr>\n",
       "  <th>Skew:</th>          <td> 0.741</td> <th>  Prob(JB):          </th> <td>   0.336</td>\n",
       "</tr>\n",
       "<tr>\n",
       "  <th>Kurtosis:</th>      <td> 3.425</td> <th>  Cond. No.          </th> <td>7.28e+06</td>\n",
       "</tr>\n",
       "</table><br/><br/>Notes:<br/>[1] Standard Errors assume that the covariance matrix of the errors is correctly specified.<br/>[2] The condition number is large, 7.28e+06. This might indicate that there are<br/>strong multicollinearity or other numerical problems."
      ],
      "text/plain": [
       "<class 'statsmodels.iolib.summary.Summary'>\n",
       "\"\"\"\n",
       "                             OLS Regression Results                            \n",
       "===============================================================================\n",
       "Dep. Variable:     rank_change_percent   R-squared:                       0.847\n",
       "Model:                             OLS   Adj. R-squared:                  0.831\n",
       "Method:                  Least Squares   F-statistic:                     52.54\n",
       "Date:                 Mon, 24 Jan 2022   Prob (F-statistic):           1.81e-08\n",
       "Time:                         16:25:12   Log-Likelihood:                 17.294\n",
       "No. Observations:                   22   AIC:                            -28.59\n",
       "Df Residuals:                       19   BIC:                            -25.31\n",
       "Df Model:                            2                                         \n",
       "Covariance Type:             nonrobust                                         \n",
       "============================================================================================\n",
       "                               coef    std err          t      P>|t|      [0.025      0.975]\n",
       "--------------------------------------------------------------------------------------------\n",
       "const                       -0.2414      0.039     -6.224      0.000      -0.323      -0.160\n",
       "points_above_avg_percent     0.6930      0.092      7.573      0.000       0.501       0.885\n",
       "previous_rank             1.143e-07   1.65e-08      6.932      0.000    7.98e-08    1.49e-07\n",
       "==============================================================================\n",
       "Omnibus:                        3.777   Durbin-Watson:                   2.267\n",
       "Prob(Omnibus):                  0.151   Jarque-Bera (JB):                2.179\n",
       "Skew:                           0.741   Prob(JB):                        0.336\n",
       "Kurtosis:                       3.425   Cond. No.                     7.28e+06\n",
       "==============================================================================\n",
       "\n",
       "Notes:\n",
       "[1] Standard Errors assume that the covariance matrix of the errors is correctly specified.\n",
       "[2] The condition number is large, 7.28e+06. This might indicate that there are\n",
       "strong multicollinearity or other numerical problems.\n",
       "\"\"\""
      ]
     },
     "execution_count": 19,
     "metadata": {},
     "output_type": "execute_result"
    }
   ],
   "source": [
    "X_const = sm.add_constant(X1)\n",
    "m2 = sm.OLS(Y, X_const).fit()\n",
    "m2.summary()"
   ]
  },
  {
   "cell_type": "markdown",
   "metadata": {},
   "source": [
    "The overall AIC has improved with the two considered variables to be highly significant. "
   ]
  },
  {
   "cell_type": "code",
   "execution_count": 20,
   "metadata": {},
   "outputs": [
    {
     "data": {
      "image/png": "[encoded data removed]",
      "text/plain": [
       "<Figure size 432x288 with 1 Axes>"
      ]
     },
     "metadata": {
      "needs_background": "light"
     },
     "output_type": "display_data"
    }
   ],
   "source": [
    "Y_pred = m2.predict(X_const)\n",
    "\n",
    "x = np.linspace(-0.5,0.9,100)\n",
    "y = x\n",
    "\n",
    "plt.scatter(Y_pred, Y1)\n",
    "plt.plot(y, x, '-r', label='ideal line')\n",
    "plt.xlabel('Predictions')\n",
    "plt.ylabel('Actual')\n",
    "plt.title('Actual vs Prediction')\n",
    "plt.legend(loc='upper left')\n",
    "plt.show()"
   ]
  },
  {
   "cell_type": "code",
   "execution_count": 21,
   "metadata": {
    "scrolled": true
   },
   "outputs": [
    {
     "data": {
      "image/png": "[encoded data removed]",
      "text/plain": [
       "<Figure size 432x288 with 1 Axes>"
      ]
     },
     "metadata": {
      "needs_background": "light"
     },
     "output_type": "display_data"
    }
   ],
   "source": [
    "plt.bar(X_const.index, Y_pred - Y1)\n",
    "plt.xlabel('GW')\n",
    "plt.ylabel('Residual')\n",
    "plt.title('Residuals') \n",
    "plt.show()"
   ]
  },
  {
   "cell_type": "markdown",
   "metadata": {},
   "source": [
    "#### Prediction for next gameweek"
   ]
  },
  {
   "cell_type": "code",
   "execution_count": 22,
   "metadata": {
    "scrolled": true
   },
   "outputs": [],
   "source": [
    "pincr = [i/10 for i in range(-5,5)]\n",
    "rank = [(j*250000)+250000 for j in range(12)]"
   ]
  },
  {
   "cell_type": "code",
   "execution_count": 23,
   "metadata": {},
   "outputs": [],
   "source": [
    "pred_df = pd.DataFrame(index=rank, columns=pincr)"
   ]
  },
  {
   "cell_type": "code",
   "execution_count": 24,
   "metadata": {},
   "outputs": [],
   "source": [
    "#pd.options.display.float_format = '{:.2f}'.format"
   ]
  },
  {
   "cell_type": "code",
   "execution_count": 25,
   "metadata": {},
   "outputs": [],
   "source": [
    "def pred(inc, base_rank):\n",
    "    # initialize list of lists\n",
    "    test = [[1.0, inc, base_rank]]\n",
    "\n",
    "    # Create the pandas DataFrame\n",
    "    test_df = pd.DataFrame(test, columns = ['const', 'points_above_avg_percent', \n",
    "                                            'previous_rank'])\n",
    "\n",
    "    return m2.predict(test_df)[0]"
   ]
  },
  {
   "cell_type": "code",
   "execution_count": 26,
   "metadata": {
    "scrolled": true
   },
   "outputs": [],
   "source": [
    "for i in range(pred_df.shape[0]):\n",
    "    for j in range(pred_df.shape[1]):\n",
    "        pred_df.iloc[i,j] = round(pred(pred_df.columns[j], pred_df.index[i]),2)\n",
    "        #print(i)\n",
    "        "
   ]
  },
  {
   "cell_type": "markdown",
   "metadata": {},
   "source": [
    "#### GW 23 prediction"
   ]
  },
  {
   "cell_type": "code",
   "execution_count": 27,
   "metadata": {},
   "outputs": [
    {
     "data": {
      "text/html": [
       "<style  type=\"text/css\" >\n",
       "#T_57e4d7d8_7d75_11ec_aa0e_8c859015df1drow0_col0,#T_57e4d7d8_7d75_11ec_aa0e_8c859015df1drow0_col1,#T_57e4d7d8_7d75_11ec_aa0e_8c859015df1drow0_col2,#T_57e4d7d8_7d75_11ec_aa0e_8c859015df1drow0_col3,#T_57e4d7d8_7d75_11ec_aa0e_8c859015df1drow0_col4,#T_57e4d7d8_7d75_11ec_aa0e_8c859015df1drow0_col5,#T_57e4d7d8_7d75_11ec_aa0e_8c859015df1drow0_col6,#T_57e4d7d8_7d75_11ec_aa0e_8c859015df1drow0_col7,#T_57e4d7d8_7d75_11ec_aa0e_8c859015df1drow0_col8,#T_57e4d7d8_7d75_11ec_aa0e_8c859015df1drow1_col0,#T_57e4d7d8_7d75_11ec_aa0e_8c859015df1drow1_col1,#T_57e4d7d8_7d75_11ec_aa0e_8c859015df1drow1_col2,#T_57e4d7d8_7d75_11ec_aa0e_8c859015df1drow1_col3,#T_57e4d7d8_7d75_11ec_aa0e_8c859015df1drow1_col4,#T_57e4d7d8_7d75_11ec_aa0e_8c859015df1drow1_col5,#T_57e4d7d8_7d75_11ec_aa0e_8c859015df1drow1_col6,#T_57e4d7d8_7d75_11ec_aa0e_8c859015df1drow1_col7,#T_57e4d7d8_7d75_11ec_aa0e_8c859015df1drow2_col0,#T_57e4d7d8_7d75_11ec_aa0e_8c859015df1drow2_col1,#T_57e4d7d8_7d75_11ec_aa0e_8c859015df1drow2_col2,#T_57e4d7d8_7d75_11ec_aa0e_8c859015df1drow2_col3,#T_57e4d7d8_7d75_11ec_aa0e_8c859015df1drow2_col4,#T_57e4d7d8_7d75_11ec_aa0e_8c859015df1drow2_col5,#T_57e4d7d8_7d75_11ec_aa0e_8c859015df1drow2_col6,#T_57e4d7d8_7d75_11ec_aa0e_8c859015df1drow2_col7,#T_57e4d7d8_7d75_11ec_aa0e_8c859015df1drow3_col0,#T_57e4d7d8_7d75_11ec_aa0e_8c859015df1drow3_col1,#T_57e4d7d8_7d75_11ec_aa0e_8c859015df1drow3_col2,#T_57e4d7d8_7d75_11ec_aa0e_8c859015df1drow3_col3,#T_57e4d7d8_7d75_11ec_aa0e_8c859015df1drow3_col4,#T_57e4d7d8_7d75_11ec_aa0e_8c859015df1drow3_col5,#T_57e4d7d8_7d75_11ec_aa0e_8c859015df1drow3_col6,#T_57e4d7d8_7d75_11ec_aa0e_8c859015df1drow4_col0,#T_57e4d7d8_7d75_11ec_aa0e_8c859015df1drow4_col1,#T_57e4d7d8_7d75_11ec_aa0e_8c859015df1drow4_col2,#T_57e4d7d8_7d75_11ec_aa0e_8c859015df1drow4_col3,#T_57e4d7d8_7d75_11ec_aa0e_8c859015df1drow4_col4,#T_57e4d7d8_7d75_11ec_aa0e_8c859015df1drow4_col5,#T_57e4d7d8_7d75_11ec_aa0e_8c859015df1drow4_col6,#T_57e4d7d8_7d75_11ec_aa0e_8c859015df1drow5_col0,#T_57e4d7d8_7d75_11ec_aa0e_8c859015df1drow5_col1,#T_57e4d7d8_7d75_11ec_aa0e_8c859015df1drow5_col2,#T_57e4d7d8_7d75_11ec_aa0e_8c859015df1drow5_col3,#T_57e4d7d8_7d75_11ec_aa0e_8c859015df1drow5_col4,#T_57e4d7d8_7d75_11ec_aa0e_8c859015df1drow5_col5,#T_57e4d7d8_7d75_11ec_aa0e_8c859015df1drow5_col6,#T_57e4d7d8_7d75_11ec_aa0e_8c859015df1drow6_col0,#T_57e4d7d8_7d75_11ec_aa0e_8c859015df1drow6_col1,#T_57e4d7d8_7d75_11ec_aa0e_8c859015df1drow6_col2,#T_57e4d7d8_7d75_11ec_aa0e_8c859015df1drow6_col3,#T_57e4d7d8_7d75_11ec_aa0e_8c859015df1drow6_col4,#T_57e4d7d8_7d75_11ec_aa0e_8c859015df1drow6_col5,#T_57e4d7d8_7d75_11ec_aa0e_8c859015df1drow7_col0,#T_57e4d7d8_7d75_11ec_aa0e_8c859015df1drow7_col1,#T_57e4d7d8_7d75_11ec_aa0e_8c859015df1drow7_col2,#T_57e4d7d8_7d75_11ec_aa0e_8c859015df1drow7_col3,#T_57e4d7d8_7d75_11ec_aa0e_8c859015df1drow7_col4,#T_57e4d7d8_7d75_11ec_aa0e_8c859015df1drow7_col5,#T_57e4d7d8_7d75_11ec_aa0e_8c859015df1drow8_col0,#T_57e4d7d8_7d75_11ec_aa0e_8c859015df1drow8_col1,#T_57e4d7d8_7d75_11ec_aa0e_8c859015df1drow8_col2,#T_57e4d7d8_7d75_11ec_aa0e_8c859015df1drow8_col3,#T_57e4d7d8_7d75_11ec_aa0e_8c859015df1drow8_col4,#T_57e4d7d8_7d75_11ec_aa0e_8c859015df1drow9_col0,#T_57e4d7d8_7d75_11ec_aa0e_8c859015df1drow9_col1,#T_57e4d7d8_7d75_11ec_aa0e_8c859015df1drow9_col2,#T_57e4d7d8_7d75_11ec_aa0e_8c859015df1drow9_col3,#T_57e4d7d8_7d75_11ec_aa0e_8c859015df1drow9_col4,#T_57e4d7d8_7d75_11ec_aa0e_8c859015df1drow10_col0,#T_57e4d7d8_7d75_11ec_aa0e_8c859015df1drow10_col1,#T_57e4d7d8_7d75_11ec_aa0e_8c859015df1drow10_col2,#T_57e4d7d8_7d75_11ec_aa0e_8c859015df1drow10_col3,#T_57e4d7d8_7d75_11ec_aa0e_8c859015df1drow10_col4,#T_57e4d7d8_7d75_11ec_aa0e_8c859015df1drow11_col0,#T_57e4d7d8_7d75_11ec_aa0e_8c859015df1drow11_col1,#T_57e4d7d8_7d75_11ec_aa0e_8c859015df1drow11_col2,#T_57e4d7d8_7d75_11ec_aa0e_8c859015df1drow11_col3{\n",
       "            background-color :  wheat;\n",
       "        }#T_57e4d7d8_7d75_11ec_aa0e_8c859015df1drow0_col9,#T_57e4d7d8_7d75_11ec_aa0e_8c859015df1drow1_col8,#T_57e4d7d8_7d75_11ec_aa0e_8c859015df1drow1_col9,#T_57e4d7d8_7d75_11ec_aa0e_8c859015df1drow2_col8,#T_57e4d7d8_7d75_11ec_aa0e_8c859015df1drow2_col9,#T_57e4d7d8_7d75_11ec_aa0e_8c859015df1drow3_col7,#T_57e4d7d8_7d75_11ec_aa0e_8c859015df1drow3_col8,#T_57e4d7d8_7d75_11ec_aa0e_8c859015df1drow3_col9,#T_57e4d7d8_7d75_11ec_aa0e_8c859015df1drow4_col7,#T_57e4d7d8_7d75_11ec_aa0e_8c859015df1drow4_col8,#T_57e4d7d8_7d75_11ec_aa0e_8c859015df1drow4_col9,#T_57e4d7d8_7d75_11ec_aa0e_8c859015df1drow5_col7,#T_57e4d7d8_7d75_11ec_aa0e_8c859015df1drow5_col8,#T_57e4d7d8_7d75_11ec_aa0e_8c859015df1drow5_col9,#T_57e4d7d8_7d75_11ec_aa0e_8c859015df1drow6_col6,#T_57e4d7d8_7d75_11ec_aa0e_8c859015df1drow6_col7,#T_57e4d7d8_7d75_11ec_aa0e_8c859015df1drow6_col8,#T_57e4d7d8_7d75_11ec_aa0e_8c859015df1drow6_col9,#T_57e4d7d8_7d75_11ec_aa0e_8c859015df1drow7_col6,#T_57e4d7d8_7d75_11ec_aa0e_8c859015df1drow7_col7,#T_57e4d7d8_7d75_11ec_aa0e_8c859015df1drow7_col8,#T_57e4d7d8_7d75_11ec_aa0e_8c859015df1drow7_col9,#T_57e4d7d8_7d75_11ec_aa0e_8c859015df1drow8_col5,#T_57e4d7d8_7d75_11ec_aa0e_8c859015df1drow8_col6,#T_57e4d7d8_7d75_11ec_aa0e_8c859015df1drow8_col7,#T_57e4d7d8_7d75_11ec_aa0e_8c859015df1drow8_col8,#T_57e4d7d8_7d75_11ec_aa0e_8c859015df1drow8_col9,#T_57e4d7d8_7d75_11ec_aa0e_8c859015df1drow9_col5,#T_57e4d7d8_7d75_11ec_aa0e_8c859015df1drow9_col6,#T_57e4d7d8_7d75_11ec_aa0e_8c859015df1drow9_col7,#T_57e4d7d8_7d75_11ec_aa0e_8c859015df1drow9_col8,#T_57e4d7d8_7d75_11ec_aa0e_8c859015df1drow9_col9,#T_57e4d7d8_7d75_11ec_aa0e_8c859015df1drow10_col5,#T_57e4d7d8_7d75_11ec_aa0e_8c859015df1drow10_col6,#T_57e4d7d8_7d75_11ec_aa0e_8c859015df1drow10_col7,#T_57e4d7d8_7d75_11ec_aa0e_8c859015df1drow10_col8,#T_57e4d7d8_7d75_11ec_aa0e_8c859015df1drow10_col9,#T_57e4d7d8_7d75_11ec_aa0e_8c859015df1drow11_col4,#T_57e4d7d8_7d75_11ec_aa0e_8c859015df1drow11_col5,#T_57e4d7d8_7d75_11ec_aa0e_8c859015df1drow11_col6,#T_57e4d7d8_7d75_11ec_aa0e_8c859015df1drow11_col7,#T_57e4d7d8_7d75_11ec_aa0e_8c859015df1drow11_col8,#T_57e4d7d8_7d75_11ec_aa0e_8c859015df1drow11_col9{\n",
       "            background-color :  yellowgreen;\n",
       "        }</style><table id=\"T_57e4d7d8_7d75_11ec_aa0e_8c859015df1d\" ><thead>    <tr>        <th class=\"blank level0\" ></th>        <th class=\"col_heading level0 col0\" >-0.5</th>        <th class=\"col_heading level0 col1\" >-0.4</th>        <th class=\"col_heading level0 col2\" >-0.3</th>        <th class=\"col_heading level0 col3\" >-0.2</th>        <th class=\"col_heading level0 col4\" >-0.1</th>        <th class=\"col_heading level0 col5\" >0.0</th>        <th class=\"col_heading level0 col6\" >0.1</th>        <th class=\"col_heading level0 col7\" >0.2</th>        <th class=\"col_heading level0 col8\" >0.3</th>        <th class=\"col_heading level0 col9\" >0.4</th>    </tr></thead><tbody>\n",
       "                <tr>\n",
       "                        <th id=\"T_57e4d7d8_7d75_11ec_aa0e_8c859015df1dlevel0_row0\" class=\"row_heading level0 row0\" >250000</th>\n",
       "                        <td id=\"T_57e4d7d8_7d75_11ec_aa0e_8c859015df1drow0_col0\" class=\"data row0 col0\" >-0.560000</td>\n",
       "                        <td id=\"T_57e4d7d8_7d75_11ec_aa0e_8c859015df1drow0_col1\" class=\"data row0 col1\" >-0.490000</td>\n",
       "                        <td id=\"T_57e4d7d8_7d75_11ec_aa0e_8c859015df1drow0_col2\" class=\"data row0 col2\" >-0.420000</td>\n",
       "                        <td id=\"T_57e4d7d8_7d75_11ec_aa0e_8c859015df1drow0_col3\" class=\"data row0 col3\" >-0.350000</td>\n",
       "                        <td id=\"T_57e4d7d8_7d75_11ec_aa0e_8c859015df1drow0_col4\" class=\"data row0 col4\" >-0.280000</td>\n",
       "                        <td id=\"T_57e4d7d8_7d75_11ec_aa0e_8c859015df1drow0_col5\" class=\"data row0 col5\" >-0.210000</td>\n",
       "                        <td id=\"T_57e4d7d8_7d75_11ec_aa0e_8c859015df1drow0_col6\" class=\"data row0 col6\" >-0.140000</td>\n",
       "                        <td id=\"T_57e4d7d8_7d75_11ec_aa0e_8c859015df1drow0_col7\" class=\"data row0 col7\" >-0.070000</td>\n",
       "                        <td id=\"T_57e4d7d8_7d75_11ec_aa0e_8c859015df1drow0_col8\" class=\"data row0 col8\" >-0.000000</td>\n",
       "                        <td id=\"T_57e4d7d8_7d75_11ec_aa0e_8c859015df1drow0_col9\" class=\"data row0 col9\" >0.060000</td>\n",
       "            </tr>\n",
       "            <tr>\n",
       "                        <th id=\"T_57e4d7d8_7d75_11ec_aa0e_8c859015df1dlevel0_row1\" class=\"row_heading level0 row1\" >500000</th>\n",
       "                        <td id=\"T_57e4d7d8_7d75_11ec_aa0e_8c859015df1drow1_col0\" class=\"data row1 col0\" >-0.530000</td>\n",
       "                        <td id=\"T_57e4d7d8_7d75_11ec_aa0e_8c859015df1drow1_col1\" class=\"data row1 col1\" >-0.460000</td>\n",
       "                        <td id=\"T_57e4d7d8_7d75_11ec_aa0e_8c859015df1drow1_col2\" class=\"data row1 col2\" >-0.390000</td>\n",
       "                        <td id=\"T_57e4d7d8_7d75_11ec_aa0e_8c859015df1drow1_col3\" class=\"data row1 col3\" >-0.320000</td>\n",
       "                        <td id=\"T_57e4d7d8_7d75_11ec_aa0e_8c859015df1drow1_col4\" class=\"data row1 col4\" >-0.250000</td>\n",
       "                        <td id=\"T_57e4d7d8_7d75_11ec_aa0e_8c859015df1drow1_col5\" class=\"data row1 col5\" >-0.180000</td>\n",
       "                        <td id=\"T_57e4d7d8_7d75_11ec_aa0e_8c859015df1drow1_col6\" class=\"data row1 col6\" >-0.110000</td>\n",
       "                        <td id=\"T_57e4d7d8_7d75_11ec_aa0e_8c859015df1drow1_col7\" class=\"data row1 col7\" >-0.050000</td>\n",
       "                        <td id=\"T_57e4d7d8_7d75_11ec_aa0e_8c859015df1drow1_col8\" class=\"data row1 col8\" >0.020000</td>\n",
       "                        <td id=\"T_57e4d7d8_7d75_11ec_aa0e_8c859015df1drow1_col9\" class=\"data row1 col9\" >0.090000</td>\n",
       "            </tr>\n",
       "            <tr>\n",
       "                        <th id=\"T_57e4d7d8_7d75_11ec_aa0e_8c859015df1dlevel0_row2\" class=\"row_heading level0 row2\" >750000</th>\n",
       "                        <td id=\"T_57e4d7d8_7d75_11ec_aa0e_8c859015df1drow2_col0\" class=\"data row2 col0\" >-0.500000</td>\n",
       "                        <td id=\"T_57e4d7d8_7d75_11ec_aa0e_8c859015df1drow2_col1\" class=\"data row2 col1\" >-0.430000</td>\n",
       "                        <td id=\"T_57e4d7d8_7d75_11ec_aa0e_8c859015df1drow2_col2\" class=\"data row2 col2\" >-0.360000</td>\n",
       "                        <td id=\"T_57e4d7d8_7d75_11ec_aa0e_8c859015df1drow2_col3\" class=\"data row2 col3\" >-0.290000</td>\n",
       "                        <td id=\"T_57e4d7d8_7d75_11ec_aa0e_8c859015df1drow2_col4\" class=\"data row2 col4\" >-0.220000</td>\n",
       "                        <td id=\"T_57e4d7d8_7d75_11ec_aa0e_8c859015df1drow2_col5\" class=\"data row2 col5\" >-0.160000</td>\n",
       "                        <td id=\"T_57e4d7d8_7d75_11ec_aa0e_8c859015df1drow2_col6\" class=\"data row2 col6\" >-0.090000</td>\n",
       "                        <td id=\"T_57e4d7d8_7d75_11ec_aa0e_8c859015df1drow2_col7\" class=\"data row2 col7\" >-0.020000</td>\n",
       "                        <td id=\"T_57e4d7d8_7d75_11ec_aa0e_8c859015df1drow2_col8\" class=\"data row2 col8\" >0.050000</td>\n",
       "                        <td id=\"T_57e4d7d8_7d75_11ec_aa0e_8c859015df1drow2_col9\" class=\"data row2 col9\" >0.120000</td>\n",
       "            </tr>\n",
       "            <tr>\n",
       "                        <th id=\"T_57e4d7d8_7d75_11ec_aa0e_8c859015df1dlevel0_row3\" class=\"row_heading level0 row3\" >1000000</th>\n",
       "                        <td id=\"T_57e4d7d8_7d75_11ec_aa0e_8c859015df1drow3_col0\" class=\"data row3 col0\" >-0.470000</td>\n",
       "                        <td id=\"T_57e4d7d8_7d75_11ec_aa0e_8c859015df1drow3_col1\" class=\"data row3 col1\" >-0.400000</td>\n",
       "                        <td id=\"T_57e4d7d8_7d75_11ec_aa0e_8c859015df1drow3_col2\" class=\"data row3 col2\" >-0.340000</td>\n",
       "                        <td id=\"T_57e4d7d8_7d75_11ec_aa0e_8c859015df1drow3_col3\" class=\"data row3 col3\" >-0.270000</td>\n",
       "                        <td id=\"T_57e4d7d8_7d75_11ec_aa0e_8c859015df1drow3_col4\" class=\"data row3 col4\" >-0.200000</td>\n",
       "                        <td id=\"T_57e4d7d8_7d75_11ec_aa0e_8c859015df1drow3_col5\" class=\"data row3 col5\" >-0.130000</td>\n",
       "                        <td id=\"T_57e4d7d8_7d75_11ec_aa0e_8c859015df1drow3_col6\" class=\"data row3 col6\" >-0.060000</td>\n",
       "                        <td id=\"T_57e4d7d8_7d75_11ec_aa0e_8c859015df1drow3_col7\" class=\"data row3 col7\" >0.010000</td>\n",
       "                        <td id=\"T_57e4d7d8_7d75_11ec_aa0e_8c859015df1drow3_col8\" class=\"data row3 col8\" >0.080000</td>\n",
       "                        <td id=\"T_57e4d7d8_7d75_11ec_aa0e_8c859015df1drow3_col9\" class=\"data row3 col9\" >0.150000</td>\n",
       "            </tr>\n",
       "            <tr>\n",
       "                        <th id=\"T_57e4d7d8_7d75_11ec_aa0e_8c859015df1dlevel0_row4\" class=\"row_heading level0 row4\" >1250000</th>\n",
       "                        <td id=\"T_57e4d7d8_7d75_11ec_aa0e_8c859015df1drow4_col0\" class=\"data row4 col0\" >-0.450000</td>\n",
       "                        <td id=\"T_57e4d7d8_7d75_11ec_aa0e_8c859015df1drow4_col1\" class=\"data row4 col1\" >-0.380000</td>\n",
       "                        <td id=\"T_57e4d7d8_7d75_11ec_aa0e_8c859015df1drow4_col2\" class=\"data row4 col2\" >-0.310000</td>\n",
       "                        <td id=\"T_57e4d7d8_7d75_11ec_aa0e_8c859015df1drow4_col3\" class=\"data row4 col3\" >-0.240000</td>\n",
       "                        <td id=\"T_57e4d7d8_7d75_11ec_aa0e_8c859015df1drow4_col4\" class=\"data row4 col4\" >-0.170000</td>\n",
       "                        <td id=\"T_57e4d7d8_7d75_11ec_aa0e_8c859015df1drow4_col5\" class=\"data row4 col5\" >-0.100000</td>\n",
       "                        <td id=\"T_57e4d7d8_7d75_11ec_aa0e_8c859015df1drow4_col6\" class=\"data row4 col6\" >-0.030000</td>\n",
       "                        <td id=\"T_57e4d7d8_7d75_11ec_aa0e_8c859015df1drow4_col7\" class=\"data row4 col7\" >0.040000</td>\n",
       "                        <td id=\"T_57e4d7d8_7d75_11ec_aa0e_8c859015df1drow4_col8\" class=\"data row4 col8\" >0.110000</td>\n",
       "                        <td id=\"T_57e4d7d8_7d75_11ec_aa0e_8c859015df1drow4_col9\" class=\"data row4 col9\" >0.180000</td>\n",
       "            </tr>\n",
       "            <tr>\n",
       "                        <th id=\"T_57e4d7d8_7d75_11ec_aa0e_8c859015df1dlevel0_row5\" class=\"row_heading level0 row5\" >1500000</th>\n",
       "                        <td id=\"T_57e4d7d8_7d75_11ec_aa0e_8c859015df1drow5_col0\" class=\"data row5 col0\" >-0.420000</td>\n",
       "                        <td id=\"T_57e4d7d8_7d75_11ec_aa0e_8c859015df1drow5_col1\" class=\"data row5 col1\" >-0.350000</td>\n",
       "                        <td id=\"T_57e4d7d8_7d75_11ec_aa0e_8c859015df1drow5_col2\" class=\"data row5 col2\" >-0.280000</td>\n",
       "                        <td id=\"T_57e4d7d8_7d75_11ec_aa0e_8c859015df1drow5_col3\" class=\"data row5 col3\" >-0.210000</td>\n",
       "                        <td id=\"T_57e4d7d8_7d75_11ec_aa0e_8c859015df1drow5_col4\" class=\"data row5 col4\" >-0.140000</td>\n",
       "                        <td id=\"T_57e4d7d8_7d75_11ec_aa0e_8c859015df1drow5_col5\" class=\"data row5 col5\" >-0.070000</td>\n",
       "                        <td id=\"T_57e4d7d8_7d75_11ec_aa0e_8c859015df1drow5_col6\" class=\"data row5 col6\" >-0.000000</td>\n",
       "                        <td id=\"T_57e4d7d8_7d75_11ec_aa0e_8c859015df1drow5_col7\" class=\"data row5 col7\" >0.070000</td>\n",
       "                        <td id=\"T_57e4d7d8_7d75_11ec_aa0e_8c859015df1drow5_col8\" class=\"data row5 col8\" >0.140000</td>\n",
       "                        <td id=\"T_57e4d7d8_7d75_11ec_aa0e_8c859015df1drow5_col9\" class=\"data row5 col9\" >0.210000</td>\n",
       "            </tr>\n",
       "            <tr>\n",
       "                        <th id=\"T_57e4d7d8_7d75_11ec_aa0e_8c859015df1dlevel0_row6\" class=\"row_heading level0 row6\" >1750000</th>\n",
       "                        <td id=\"T_57e4d7d8_7d75_11ec_aa0e_8c859015df1drow6_col0\" class=\"data row6 col0\" >-0.390000</td>\n",
       "                        <td id=\"T_57e4d7d8_7d75_11ec_aa0e_8c859015df1drow6_col1\" class=\"data row6 col1\" >-0.320000</td>\n",
       "                        <td id=\"T_57e4d7d8_7d75_11ec_aa0e_8c859015df1drow6_col2\" class=\"data row6 col2\" >-0.250000</td>\n",
       "                        <td id=\"T_57e4d7d8_7d75_11ec_aa0e_8c859015df1drow6_col3\" class=\"data row6 col3\" >-0.180000</td>\n",
       "                        <td id=\"T_57e4d7d8_7d75_11ec_aa0e_8c859015df1drow6_col4\" class=\"data row6 col4\" >-0.110000</td>\n",
       "                        <td id=\"T_57e4d7d8_7d75_11ec_aa0e_8c859015df1drow6_col5\" class=\"data row6 col5\" >-0.040000</td>\n",
       "                        <td id=\"T_57e4d7d8_7d75_11ec_aa0e_8c859015df1drow6_col6\" class=\"data row6 col6\" >0.030000</td>\n",
       "                        <td id=\"T_57e4d7d8_7d75_11ec_aa0e_8c859015df1drow6_col7\" class=\"data row6 col7\" >0.100000</td>\n",
       "                        <td id=\"T_57e4d7d8_7d75_11ec_aa0e_8c859015df1drow6_col8\" class=\"data row6 col8\" >0.170000</td>\n",
       "                        <td id=\"T_57e4d7d8_7d75_11ec_aa0e_8c859015df1drow6_col9\" class=\"data row6 col9\" >0.240000</td>\n",
       "            </tr>\n",
       "            <tr>\n",
       "                        <th id=\"T_57e4d7d8_7d75_11ec_aa0e_8c859015df1dlevel0_row7\" class=\"row_heading level0 row7\" >2000000</th>\n",
       "                        <td id=\"T_57e4d7d8_7d75_11ec_aa0e_8c859015df1drow7_col0\" class=\"data row7 col0\" >-0.360000</td>\n",
       "                        <td id=\"T_57e4d7d8_7d75_11ec_aa0e_8c859015df1drow7_col1\" class=\"data row7 col1\" >-0.290000</td>\n",
       "                        <td id=\"T_57e4d7d8_7d75_11ec_aa0e_8c859015df1drow7_col2\" class=\"data row7 col2\" >-0.220000</td>\n",
       "                        <td id=\"T_57e4d7d8_7d75_11ec_aa0e_8c859015df1drow7_col3\" class=\"data row7 col3\" >-0.150000</td>\n",
       "                        <td id=\"T_57e4d7d8_7d75_11ec_aa0e_8c859015df1drow7_col4\" class=\"data row7 col4\" >-0.080000</td>\n",
       "                        <td id=\"T_57e4d7d8_7d75_11ec_aa0e_8c859015df1drow7_col5\" class=\"data row7 col5\" >-0.010000</td>\n",
       "                        <td id=\"T_57e4d7d8_7d75_11ec_aa0e_8c859015df1drow7_col6\" class=\"data row7 col6\" >0.060000</td>\n",
       "                        <td id=\"T_57e4d7d8_7d75_11ec_aa0e_8c859015df1drow7_col7\" class=\"data row7 col7\" >0.130000</td>\n",
       "                        <td id=\"T_57e4d7d8_7d75_11ec_aa0e_8c859015df1drow7_col8\" class=\"data row7 col8\" >0.200000</td>\n",
       "                        <td id=\"T_57e4d7d8_7d75_11ec_aa0e_8c859015df1drow7_col9\" class=\"data row7 col9\" >0.260000</td>\n",
       "            </tr>\n",
       "            <tr>\n",
       "                        <th id=\"T_57e4d7d8_7d75_11ec_aa0e_8c859015df1dlevel0_row8\" class=\"row_heading level0 row8\" >2250000</th>\n",
       "                        <td id=\"T_57e4d7d8_7d75_11ec_aa0e_8c859015df1drow8_col0\" class=\"data row8 col0\" >-0.330000</td>\n",
       "                        <td id=\"T_57e4d7d8_7d75_11ec_aa0e_8c859015df1drow8_col1\" class=\"data row8 col1\" >-0.260000</td>\n",
       "                        <td id=\"T_57e4d7d8_7d75_11ec_aa0e_8c859015df1drow8_col2\" class=\"data row8 col2\" >-0.190000</td>\n",
       "                        <td id=\"T_57e4d7d8_7d75_11ec_aa0e_8c859015df1drow8_col3\" class=\"data row8 col3\" >-0.120000</td>\n",
       "                        <td id=\"T_57e4d7d8_7d75_11ec_aa0e_8c859015df1drow8_col4\" class=\"data row8 col4\" >-0.050000</td>\n",
       "                        <td id=\"T_57e4d7d8_7d75_11ec_aa0e_8c859015df1drow8_col5\" class=\"data row8 col5\" >0.020000</td>\n",
       "                        <td id=\"T_57e4d7d8_7d75_11ec_aa0e_8c859015df1drow8_col6\" class=\"data row8 col6\" >0.090000</td>\n",
       "                        <td id=\"T_57e4d7d8_7d75_11ec_aa0e_8c859015df1drow8_col7\" class=\"data row8 col7\" >0.150000</td>\n",
       "                        <td id=\"T_57e4d7d8_7d75_11ec_aa0e_8c859015df1drow8_col8\" class=\"data row8 col8\" >0.220000</td>\n",
       "                        <td id=\"T_57e4d7d8_7d75_11ec_aa0e_8c859015df1drow8_col9\" class=\"data row8 col9\" >0.290000</td>\n",
       "            </tr>\n",
       "            <tr>\n",
       "                        <th id=\"T_57e4d7d8_7d75_11ec_aa0e_8c859015df1dlevel0_row9\" class=\"row_heading level0 row9\" >2500000</th>\n",
       "                        <td id=\"T_57e4d7d8_7d75_11ec_aa0e_8c859015df1drow9_col0\" class=\"data row9 col0\" >-0.300000</td>\n",
       "                        <td id=\"T_57e4d7d8_7d75_11ec_aa0e_8c859015df1drow9_col1\" class=\"data row9 col1\" >-0.230000</td>\n",
       "                        <td id=\"T_57e4d7d8_7d75_11ec_aa0e_8c859015df1drow9_col2\" class=\"data row9 col2\" >-0.160000</td>\n",
       "                        <td id=\"T_57e4d7d8_7d75_11ec_aa0e_8c859015df1drow9_col3\" class=\"data row9 col3\" >-0.090000</td>\n",
       "                        <td id=\"T_57e4d7d8_7d75_11ec_aa0e_8c859015df1drow9_col4\" class=\"data row9 col4\" >-0.020000</td>\n",
       "                        <td id=\"T_57e4d7d8_7d75_11ec_aa0e_8c859015df1drow9_col5\" class=\"data row9 col5\" >0.040000</td>\n",
       "                        <td id=\"T_57e4d7d8_7d75_11ec_aa0e_8c859015df1drow9_col6\" class=\"data row9 col6\" >0.110000</td>\n",
       "                        <td id=\"T_57e4d7d8_7d75_11ec_aa0e_8c859015df1drow9_col7\" class=\"data row9 col7\" >0.180000</td>\n",
       "                        <td id=\"T_57e4d7d8_7d75_11ec_aa0e_8c859015df1drow9_col8\" class=\"data row9 col8\" >0.250000</td>\n",
       "                        <td id=\"T_57e4d7d8_7d75_11ec_aa0e_8c859015df1drow9_col9\" class=\"data row9 col9\" >0.320000</td>\n",
       "            </tr>\n",
       "            <tr>\n",
       "                        <th id=\"T_57e4d7d8_7d75_11ec_aa0e_8c859015df1dlevel0_row10\" class=\"row_heading level0 row10\" >2750000</th>\n",
       "                        <td id=\"T_57e4d7d8_7d75_11ec_aa0e_8c859015df1drow10_col0\" class=\"data row10 col0\" >-0.270000</td>\n",
       "                        <td id=\"T_57e4d7d8_7d75_11ec_aa0e_8c859015df1drow10_col1\" class=\"data row10 col1\" >-0.200000</td>\n",
       "                        <td id=\"T_57e4d7d8_7d75_11ec_aa0e_8c859015df1drow10_col2\" class=\"data row10 col2\" >-0.130000</td>\n",
       "                        <td id=\"T_57e4d7d8_7d75_11ec_aa0e_8c859015df1drow10_col3\" class=\"data row10 col3\" >-0.070000</td>\n",
       "                        <td id=\"T_57e4d7d8_7d75_11ec_aa0e_8c859015df1drow10_col4\" class=\"data row10 col4\" >0.000000</td>\n",
       "                        <td id=\"T_57e4d7d8_7d75_11ec_aa0e_8c859015df1drow10_col5\" class=\"data row10 col5\" >0.070000</td>\n",
       "                        <td id=\"T_57e4d7d8_7d75_11ec_aa0e_8c859015df1drow10_col6\" class=\"data row10 col6\" >0.140000</td>\n",
       "                        <td id=\"T_57e4d7d8_7d75_11ec_aa0e_8c859015df1drow10_col7\" class=\"data row10 col7\" >0.210000</td>\n",
       "                        <td id=\"T_57e4d7d8_7d75_11ec_aa0e_8c859015df1drow10_col8\" class=\"data row10 col8\" >0.280000</td>\n",
       "                        <td id=\"T_57e4d7d8_7d75_11ec_aa0e_8c859015df1drow10_col9\" class=\"data row10 col9\" >0.350000</td>\n",
       "            </tr>\n",
       "            <tr>\n",
       "                        <th id=\"T_57e4d7d8_7d75_11ec_aa0e_8c859015df1dlevel0_row11\" class=\"row_heading level0 row11\" >3000000</th>\n",
       "                        <td id=\"T_57e4d7d8_7d75_11ec_aa0e_8c859015df1drow11_col0\" class=\"data row11 col0\" >-0.250000</td>\n",
       "                        <td id=\"T_57e4d7d8_7d75_11ec_aa0e_8c859015df1drow11_col1\" class=\"data row11 col1\" >-0.180000</td>\n",
       "                        <td id=\"T_57e4d7d8_7d75_11ec_aa0e_8c859015df1drow11_col2\" class=\"data row11 col2\" >-0.110000</td>\n",
       "                        <td id=\"T_57e4d7d8_7d75_11ec_aa0e_8c859015df1drow11_col3\" class=\"data row11 col3\" >-0.040000</td>\n",
       "                        <td id=\"T_57e4d7d8_7d75_11ec_aa0e_8c859015df1drow11_col4\" class=\"data row11 col4\" >0.030000</td>\n",
       "                        <td id=\"T_57e4d7d8_7d75_11ec_aa0e_8c859015df1drow11_col5\" class=\"data row11 col5\" >0.100000</td>\n",
       "                        <td id=\"T_57e4d7d8_7d75_11ec_aa0e_8c859015df1drow11_col6\" class=\"data row11 col6\" >0.170000</td>\n",
       "                        <td id=\"T_57e4d7d8_7d75_11ec_aa0e_8c859015df1drow11_col7\" class=\"data row11 col7\" >0.240000</td>\n",
       "                        <td id=\"T_57e4d7d8_7d75_11ec_aa0e_8c859015df1drow11_col8\" class=\"data row11 col8\" >0.310000</td>\n",
       "                        <td id=\"T_57e4d7d8_7d75_11ec_aa0e_8c859015df1drow11_col9\" class=\"data row11 col9\" >0.380000</td>\n",
       "            </tr>\n",
       "    </tbody></table>"
      ],
      "text/plain": [
       "<pandas.io.formats.style.Styler at 0x7f933c962460>"
      ]
     },
     "execution_count": 27,
     "metadata": {},
     "output_type": "execute_result"
    }
   ],
   "source": [
    "pred_df.style.applymap(lambda x: 'background-color : yellowgreen' if x>0 else 'background-color : wheat')\n",
    "#pred_df.style.background_gradient(cmap=\"Spectral\")"
   ]
  },
  {
   "cell_type": "code",
   "execution_count": 28,
   "metadata": {},
   "outputs": [],
   "source": [
    "pred_df.to_excel('GW23_rankelasticity.xlsx')"
   ]
  }
 ],
 "metadata": {
  "kernelspec": {
   "display_name": "Python 3",
   "language": "python",
   "name": "python3"
  },
  "language_info": {
   "codemirror_mode": {
    "name": "ipython",
    "version": 3
   },
   "file_extension": ".py",
   "mimetype": "text/x-python",
   "name": "python",
   "nbconvert_exporter": "python",
   "pygments_lexer": "ipython3",
   "version": "3.8.5"
  }
 },
 "nbformat": 4,
 "nbformat_minor": 4
}
